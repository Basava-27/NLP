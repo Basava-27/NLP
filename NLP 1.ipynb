{
  "nbformat": 4,
  "nbformat_minor": 0,
  "metadata": {
    "colab": {
      "provenance": [],
      "gpuType": "T4"
    },
    "kernelspec": {
      "name": "python3",
      "display_name": "Python 3"
    },
    "language_info": {
      "name": "python"
    },
    "accelerator": "GPU"
  },
  "cells": [
    {
      "cell_type": "code",
      "execution_count": 4,
      "metadata": {
        "colab": {
          "base_uri": "https://localhost:8080/"
        },
        "id": "CTqlR7lKG0D8",
        "outputId": "b9666508-683a-4092-b16f-f22b1aadc0f5"
      },
      "outputs": [
        {
          "output_type": "stream",
          "name": "stdout",
          "text": [
            "Requirement already satisfied: nltk in /usr/local/lib/python3.11/dist-packages (3.9.1)\n",
            "Requirement already satisfied: click in /usr/local/lib/python3.11/dist-packages (from nltk) (8.2.1)\n",
            "Requirement already satisfied: joblib in /usr/local/lib/python3.11/dist-packages (from nltk) (1.5.1)\n",
            "Requirement already satisfied: regex>=2021.8.3 in /usr/local/lib/python3.11/dist-packages (from nltk) (2024.11.6)\n",
            "Requirement already satisfied: tqdm in /usr/local/lib/python3.11/dist-packages (from nltk) (4.67.1)\n"
          ]
        }
      ],
      "source": [
        "!pip install nltk\n"
      ]
    },
    {
      "cell_type": "code",
      "source": [
        "paragraph= \"\"\"\n",
        "Abraham Benjamin de Villiers (born 17 February 1984) is a South African former international cricketer. He is regarded as one of the greatest batters of his generation.[2] de Villiers was named as the ICC ODI Player of the Year three times during his 15-year international career.[3] He was one of the five Wisden cricketers of the decade at the end of 2019.[4] He began his international career as a wicket-keeper-batter, but he has most often played only as a batter.\n",
        "\n",
        "Regarded as one of the most innovative and destructive batsmen in the modern era, de Villiers is known for a range of unorthodox shots, particularly behind the wicket-keeper.[5] He made his international debut in a Test match against England in 2004 and first played a One Day International (ODI) in early 2005. His debut in Twenty20 International cricket came in 2006. He scored over 8,000 runs in both Test and ODI cricket and is one of the very few batsmen to have a batting average of over fifty in both forms of the game.[6] In limited overs cricket, he is an attacking player.[7] He holds the record for the fastest ODI fifty (16 balls) equalled by Matthew Forde of the West Indies who made 58 off 19 balls against Ireland [8], fastest ODI century (31 balls), and fastest ODI 150 (62 balls) De Villiers captained South Africa in all three formats, although after a series of injuries, he stepped down from the Test captaincy. In 2017, he stepped down from captaining the national limited-overs games[9] and in May 2018, he announced his retirement from all forms of international cricket.[10][11][12] In January 2020, however, de Villiers expressed an interest in making an international comeback and play in the 2020 T20 World Cup,[13] although later in the year it was confirmed that he would not do so.[14][15][16] On 19 November 2021, de Villiers announced his retirement from all forms of cricket.[17] In October 2024, de Villiers became the 8th South African cricketer to be inducted into the ICC Hall of Fame.[18][19]\n",
        "\"\"\""
      ],
      "metadata": {
        "id": "SF6PHt-2HFx0"
      },
      "execution_count": 5,
      "outputs": []
    },
    {
      "cell_type": "code",
      "source": [
        "import nltk\n",
        "from nltk.stem import PorterStemmer\n",
        "from nltk.corpus import stopwords"
      ],
      "metadata": {
        "id": "W2vTgop6HrR-"
      },
      "execution_count": 6,
      "outputs": []
    },
    {
      "cell_type": "code",
      "source": [
        "## tokenization\n",
        "\n",
        "nltk.download('punkt')\n",
        "nltk.download('punkt_tab') # Download the missing resource\n",
        "sentences=nltk.sent_tokenize(paragraph)"
      ],
      "metadata": {
        "colab": {
          "base_uri": "https://localhost:8080/"
        },
        "id": "5Mz4nimMH7Dm",
        "outputId": "98c73d52-ce31-419b-ff74-6f03e28894f0"
      },
      "execution_count": 7,
      "outputs": [
        {
          "output_type": "stream",
          "name": "stderr",
          "text": [
            "[nltk_data] Downloading package punkt to /root/nltk_data...\n",
            "[nltk_data]   Unzipping tokenizers/punkt.zip.\n",
            "[nltk_data] Downloading package punkt_tab to /root/nltk_data...\n",
            "[nltk_data]   Unzipping tokenizers/punkt_tab.zip.\n"
          ]
        }
      ]
    },
    {
      "cell_type": "code",
      "source": [
        "print(sentences)"
      ],
      "metadata": {
        "colab": {
          "base_uri": "https://localhost:8080/"
        },
        "id": "sV1E9UE1IXOS",
        "outputId": "6f7b4ceb-dee4-4418-b271-52ca6ed5afe9"
      },
      "execution_count": 8,
      "outputs": [
        {
          "output_type": "stream",
          "name": "stdout",
          "text": [
            "['\\nAbraham Benjamin de Villiers (born 17 February 1984) is a South African former international cricketer.', 'He is regarded as one of the greatest batters of his generation.', '[2] de Villiers was named as the ICC ODI Player of the Year three times during his 15-year international career.', '[3] He was one of the five Wisden cricketers of the decade at the end of 2019.', '[4] He began his international career as a wicket-keeper-batter, but he has most often played only as a batter.', 'Regarded as one of the most innovative and destructive batsmen in the modern era, de Villiers is known for a range of unorthodox shots, particularly behind the wicket-keeper.', '[5] He made his international debut in a Test match against England in 2004 and first played a One Day International (ODI) in early 2005.', 'His debut in Twenty20 International cricket came in 2006.', 'He scored over 8,000 runs in both Test and ODI cricket and is one of the very few batsmen to have a batting average of over fifty in both forms of the game.', '[6] In limited overs cricket, he is an attacking player.', '[7] He holds the record for the fastest ODI fifty (16 balls) equalled by Matthew Forde of the West Indies who made 58 off 19 balls against Ireland [8], fastest ODI century (31 balls), and fastest ODI 150 (62 balls) De Villiers captained South Africa in all three formats, although after a series of injuries, he stepped down from the Test captaincy.', 'In 2017, he stepped down from captaining the national limited-overs games[9] and in May 2018, he announced his retirement from all forms of international cricket.', '[10][11][12] In January 2020, however, de Villiers expressed an interest in making an international comeback and play in the 2020 T20 World Cup,[13] although later in the year it was confirmed that he would not do so.', '[14][15][16] On 19 November 2021, de Villiers announced his retirement from all forms of cricket.', '[17] In October 2024, de Villiers became the 8th South African cricketer to be inducted into the ICC Hall of Fame.', '[18][19]']\n"
          ]
        }
      ]
    },
    {
      "cell_type": "code",
      "source": [
        "stemmer=PorterStemmer()"
      ],
      "metadata": {
        "id": "P8fXIkISI0Ld"
      },
      "execution_count": 9,
      "outputs": []
    },
    {
      "cell_type": "code",
      "source": [
        "stemmer.stem('history')"
      ],
      "metadata": {
        "colab": {
          "base_uri": "https://localhost:8080/",
          "height": 36
        },
        "id": "eEoXV8bBI7-J",
        "outputId": "bbab501d-7c51-4042-9ebc-105c96c781e6"
      },
      "execution_count": 10,
      "outputs": [
        {
          "output_type": "execute_result",
          "data": {
            "text/plain": [
              "'histori'"
            ],
            "application/vnd.google.colaboratory.intrinsic+json": {
              "type": "string"
            }
          },
          "metadata": {},
          "execution_count": 10
        }
      ]
    },
    {
      "cell_type": "code",
      "source": [
        "from nltk.stem import WordNetLemmatizer"
      ],
      "metadata": {
        "id": "GMxHwU4WJD3S"
      },
      "execution_count": 11,
      "outputs": []
    },
    {
      "cell_type": "code",
      "source": [
        "lemmatizer=WordNetLemmatizer()"
      ],
      "metadata": {
        "id": "C78b5QQKJPGI"
      },
      "execution_count": 12,
      "outputs": []
    },
    {
      "cell_type": "code",
      "source": [
        "lemmatizer.lemmatize('goes')"
      ],
      "metadata": {
        "colab": {
          "base_uri": "https://localhost:8080/",
          "height": 36
        },
        "id": "285MZmLmmn0F",
        "outputId": "8ea97a3f-2f8b-4d5b-b22d-0625586c8826"
      },
      "execution_count": 23,
      "outputs": [
        {
          "output_type": "execute_result",
          "data": {
            "text/plain": [
              "'go'"
            ],
            "application/vnd.google.colaboratory.intrinsic+json": {
              "type": "string"
            }
          },
          "metadata": {},
          "execution_count": 23
        }
      ]
    },
    {
      "cell_type": "code",
      "metadata": {
        "colab": {
          "base_uri": "https://localhost:8080/"
        },
        "id": "7fb4b183",
        "outputId": "df39f8a9-8ba5-4458-f354-d1ce7376ac57"
      },
      "source": [
        "nltk.download('stopwords')"
      ],
      "execution_count": 24,
      "outputs": [
        {
          "output_type": "stream",
          "name": "stderr",
          "text": [
            "[nltk_data] Downloading package stopwords to /root/nltk_data...\n",
            "[nltk_data]   Package stopwords is already up-to-date!\n"
          ]
        },
        {
          "output_type": "execute_result",
          "data": {
            "text/plain": [
              "True"
            ]
          },
          "metadata": {},
          "execution_count": 24
        }
      ]
    },
    {
      "cell_type": "code",
      "metadata": {
        "colab": {
          "base_uri": "https://localhost:8080/"
        },
        "id": "3b3a305c",
        "outputId": "285e1726-76f9-40a9-df61-eb63530cc977"
      },
      "source": [
        "from nltk.corpus import stopwords\n",
        "\n",
        "stop_words = set(stopwords.words('english'))\n",
        "\n",
        "filtered_words = [word for word in words if word.lower() not in stop_words]\n",
        "\n",
        "print(filtered_words[:20]) # Print the first 20 filtered words"
      ],
      "execution_count": 25,
      "outputs": [
        {
          "output_type": "stream",
          "name": "stdout",
          "text": [
            "['Abraham', 'Benjamin', 'de', 'Villiers', '(', 'born', '17', 'February', '1984', ')', 'South', 'African', 'former', 'international', 'cricketer', '.', 'regarded', 'one', 'greatest', 'batters']\n"
          ]
        }
      ]
    },
    {
      "cell_type": "code",
      "metadata": {
        "colab": {
          "base_uri": "https://localhost:8080/"
        },
        "id": "678756cc",
        "outputId": "e68afe8a-c55a-4c80-c758-1300918cbc80"
      },
      "source": [
        "words = []\n",
        "for sentence in sentences:\n",
        "    words.extend(nltk.word_tokenize(sentence))\n",
        "print(words[:20]) # Print the first 20 words to check"
      ],
      "execution_count": 26,
      "outputs": [
        {
          "output_type": "stream",
          "name": "stdout",
          "text": [
            "['Abraham', 'Benjamin', 'de', 'Villiers', '(', 'born', '17', 'February', '1984', ')', 'is', 'a', 'South', 'African', 'former', 'international', 'cricketer', '.', 'He', 'is']\n"
          ]
        }
      ]
    },
    {
      "cell_type": "code",
      "metadata": {
        "colab": {
          "base_uri": "https://localhost:8080/"
        },
        "id": "42baf1aa",
        "outputId": "d32690e7-e22f-4ed5-c74f-83b8d96ae214"
      },
      "source": [
        "from nltk.corpus import stopwords\n",
        "\n",
        "stop_words = set(stopwords.words('english'))\n",
        "\n",
        "filtered_words = [word for word in words if word.lower() not in stop_words]\n",
        "\n",
        "print(filtered_words[:20]) # Print the first 20 filtered words"
      ],
      "execution_count": 27,
      "outputs": [
        {
          "output_type": "stream",
          "name": "stdout",
          "text": [
            "['Abraham', 'Benjamin', 'de', 'Villiers', '(', 'born', '17', 'February', '1984', ')', 'South', 'African', 'former', 'international', 'cricketer', '.', 'regarded', 'one', 'greatest', 'batters']\n"
          ]
        }
      ]
    },
    {
      "cell_type": "code",
      "metadata": {
        "colab": {
          "base_uri": "https://localhost:8080/"
        },
        "id": "22ebbb97",
        "outputId": "0b01089c-849b-4003-8ca1-8a5d1303f604"
      },
      "source": [
        "nltk.download('wordnet')"
      ],
      "execution_count": 28,
      "outputs": [
        {
          "output_type": "stream",
          "name": "stderr",
          "text": [
            "[nltk_data] Downloading package wordnet to /root/nltk_data...\n",
            "[nltk_data]   Package wordnet is already up-to-date!\n"
          ]
        },
        {
          "output_type": "execute_result",
          "data": {
            "text/plain": [
              "True"
            ]
          },
          "metadata": {},
          "execution_count": 28
        }
      ]
    },
    {
      "cell_type": "code",
      "metadata": {
        "colab": {
          "base_uri": "https://localhost:8080/"
        },
        "id": "926cb112",
        "outputId": "4794a1d3-c857-4b69-af31-c85c93ccbfc2"
      },
      "source": [
        "lemmatized_words = [lemmatizer.lemmatize(word) for word in filtered_words]\n",
        "print(lemmatized_words[:20]) # Print the first 20 lemmatized words"
      ],
      "execution_count": 29,
      "outputs": [
        {
          "output_type": "stream",
          "name": "stdout",
          "text": [
            "['Abraham', 'Benjamin', 'de', 'Villiers', '(', 'born', '17', 'February', '1984', ')', 'South', 'African', 'former', 'international', 'cricketer', '.', 'regarded', 'one', 'greatest', 'batter']\n"
          ]
        }
      ]
    },
    {
      "cell_type": "code",
      "source": [
        "import re"
      ],
      "metadata": {
        "id": "5JacofQlnYfo"
      },
      "execution_count": 31,
      "outputs": []
    },
    {
      "cell_type": "code",
      "source": [
        "\n",
        "corpus=[]\n",
        "for i in range(len(sentences)):\n",
        "  review=re.sub('[^a-zA-Z]',' ',sentences[i])\n",
        "  review=review.lower()\n",
        "  corpus.append(review)"
      ],
      "metadata": {
        "id": "MonGZXMfnEfq"
      },
      "execution_count": 49,
      "outputs": []
    },
    {
      "cell_type": "code",
      "source": [
        "corpus"
      ],
      "metadata": {
        "colab": {
          "base_uri": "https://localhost:8080/"
        },
        "id": "BUI53tZUnjQr",
        "outputId": "e408b935-d74b-4ce6-98a6-4b87a9d9907b"
      },
      "execution_count": 50,
      "outputs": [
        {
          "output_type": "execute_result",
          "data": {
            "text/plain": [
              "[' abraham benjamin de villiers  born    february       is a south african former international cricketer ',\n",
              " 'he is regarded as one of the greatest batters of his generation ',\n",
              " '    de villiers was named as the icc odi player of the year three times during his    year international career ',\n",
              " '    he was one of the five wisden cricketers of the decade at the end of      ',\n",
              " '    he began his international career as a wicket keeper batter  but he has most often played only as a batter ',\n",
              " 'regarded as one of the most innovative and destructive batsmen in the modern era  de villiers is known for a range of unorthodox shots  particularly behind the wicket keeper ',\n",
              " '    he made his international debut in a test match against england in      and first played a one day international  odi  in early      ',\n",
              " 'his debut in twenty   international cricket came in      ',\n",
              " 'he scored over       runs in both test and odi cricket and is one of the very few batsmen to have a batting average of over fifty in both forms of the game ',\n",
              " '    in limited overs cricket  he is an attacking player ',\n",
              " '    he holds the record for the fastest odi fifty     balls  equalled by matthew forde of the west indies who made    off    balls against ireland      fastest odi century     balls   and fastest odi         balls  de villiers captained south africa in all three formats  although after a series of injuries  he stepped down from the test captaincy ',\n",
              " 'in       he stepped down from captaining the national limited overs games    and in may       he announced his retirement from all forms of international cricket ',\n",
              " '             in january       however  de villiers expressed an interest in making an international comeback and play in the      t   world cup      although later in the year it was confirmed that he would not do so ',\n",
              " '             on    november       de villiers announced his retirement from all forms of cricket ',\n",
              " '     in october       de villiers became the  th south african cricketer to be inducted into the icc hall of fame ',\n",
              " '        ']"
            ]
          },
          "metadata": {},
          "execution_count": 50
        }
      ]
    },
    {
      "cell_type": "code",
      "source": [
        "## stemming\n",
        "for i in corpus:\n",
        "  words=nltk.word_tokenize(i)\n",
        "  for word in words:\n",
        "    if word not in set(stopwords.words('english')):\n",
        "      print(stemmer.stem(word))\n"
      ],
      "metadata": {
        "colab": {
          "base_uri": "https://localhost:8080/"
        },
        "id": "nEDOf9tgoo0c",
        "outputId": "11682f7c-5452-45be-d08c-ac6464ef139c"
      },
      "execution_count": 58,
      "outputs": [
        {
          "output_type": "stream",
          "name": "stdout",
          "text": [
            "abraham\n",
            "benjamin\n",
            "de\n",
            "villier\n",
            "born\n",
            "februari\n",
            "south\n",
            "african\n",
            "former\n",
            "intern\n",
            "cricket\n",
            "regard\n",
            "one\n",
            "greatest\n",
            "batter\n",
            "gener\n",
            "de\n",
            "villier\n",
            "name\n",
            "icc\n",
            "odi\n",
            "player\n",
            "year\n",
            "three\n",
            "time\n",
            "year\n",
            "intern\n",
            "career\n",
            "one\n",
            "five\n",
            "wisden\n",
            "cricket\n",
            "decad\n",
            "end\n",
            "began\n",
            "intern\n",
            "career\n",
            "wicket\n",
            "keeper\n",
            "batter\n",
            "often\n",
            "play\n",
            "batter\n",
            "regard\n",
            "one\n",
            "innov\n",
            "destruct\n",
            "batsmen\n",
            "modern\n",
            "era\n",
            "de\n",
            "villier\n",
            "known\n",
            "rang\n",
            "unorthodox\n",
            "shot\n",
            "particularli\n",
            "behind\n",
            "wicket\n",
            "keeper\n",
            "made\n",
            "intern\n",
            "debut\n",
            "test\n",
            "match\n",
            "england\n",
            "first\n",
            "play\n",
            "one\n",
            "day\n",
            "intern\n",
            "odi\n",
            "earli\n",
            "debut\n",
            "twenti\n",
            "intern\n",
            "cricket\n",
            "came\n",
            "score\n",
            "run\n",
            "test\n",
            "odi\n",
            "cricket\n",
            "one\n",
            "batsmen\n",
            "bat\n",
            "averag\n",
            "fifti\n",
            "form\n",
            "game\n",
            "limit\n",
            "over\n",
            "cricket\n",
            "attack\n",
            "player\n",
            "hold\n",
            "record\n",
            "fastest\n",
            "odi\n",
            "fifti\n",
            "ball\n",
            "equal\n",
            "matthew\n",
            "ford\n",
            "west\n",
            "indi\n",
            "made\n",
            "ball\n",
            "ireland\n",
            "fastest\n",
            "odi\n",
            "centuri\n",
            "ball\n",
            "fastest\n",
            "odi\n",
            "ball\n",
            "de\n",
            "villier\n",
            "captain\n",
            "south\n",
            "africa\n",
            "three\n",
            "format\n",
            "although\n",
            "seri\n",
            "injuri\n",
            "step\n",
            "test\n",
            "captainci\n",
            "step\n",
            "captain\n",
            "nation\n",
            "limit\n",
            "over\n",
            "game\n",
            "may\n",
            "announc\n",
            "retir\n",
            "form\n",
            "intern\n",
            "cricket\n",
            "januari\n",
            "howev\n",
            "de\n",
            "villier\n",
            "express\n",
            "interest\n",
            "make\n",
            "intern\n",
            "comeback\n",
            "play\n",
            "world\n",
            "cup\n",
            "although\n",
            "later\n",
            "year\n",
            "confirm\n",
            "would\n",
            "novemb\n",
            "de\n",
            "villier\n",
            "announc\n",
            "retir\n",
            "form\n",
            "cricket\n",
            "octob\n",
            "de\n",
            "villier\n",
            "becam\n",
            "th\n",
            "south\n",
            "african\n",
            "cricket\n",
            "induct\n",
            "icc\n",
            "hall\n",
            "fame\n"
          ]
        }
      ]
    },
    {
      "cell_type": "code",
      "source": [
        "## lemmatize\n",
        "for i in corpus:\n",
        "  words=nltk.word_tokenize(i)\n",
        "  for word in words:\n",
        "    if word not in set(stopwords.words('english')):\n",
        "      print(lemmatizer.lemmatize(word))\n"
      ],
      "metadata": {
        "colab": {
          "base_uri": "https://localhost:8080/"
        },
        "id": "IP3yjVwhqmuz",
        "outputId": "02d65286-083f-4b57-86cd-bc1872b5ff21"
      },
      "execution_count": 60,
      "outputs": [
        {
          "output_type": "stream",
          "name": "stdout",
          "text": [
            "abraham\n",
            "benjamin\n",
            "de\n",
            "villiers\n",
            "born\n",
            "february\n",
            "south\n",
            "african\n",
            "former\n",
            "international\n",
            "cricketer\n",
            "regarded\n",
            "one\n",
            "greatest\n",
            "batter\n",
            "generation\n",
            "de\n",
            "villiers\n",
            "named\n",
            "icc\n",
            "odi\n",
            "player\n",
            "year\n",
            "three\n",
            "time\n",
            "year\n",
            "international\n",
            "career\n",
            "one\n",
            "five\n",
            "wisden\n",
            "cricketer\n",
            "decade\n",
            "end\n",
            "began\n",
            "international\n",
            "career\n",
            "wicket\n",
            "keeper\n",
            "batter\n",
            "often\n",
            "played\n",
            "batter\n",
            "regarded\n",
            "one\n",
            "innovative\n",
            "destructive\n",
            "batsman\n",
            "modern\n",
            "era\n",
            "de\n",
            "villiers\n",
            "known\n",
            "range\n",
            "unorthodox\n",
            "shot\n",
            "particularly\n",
            "behind\n",
            "wicket\n",
            "keeper\n",
            "made\n",
            "international\n",
            "debut\n",
            "test\n",
            "match\n",
            "england\n",
            "first\n",
            "played\n",
            "one\n",
            "day\n",
            "international\n",
            "odi\n",
            "early\n",
            "debut\n",
            "twenty\n",
            "international\n",
            "cricket\n",
            "came\n",
            "scored\n",
            "run\n",
            "test\n",
            "odi\n",
            "cricket\n",
            "one\n",
            "batsman\n",
            "batting\n",
            "average\n",
            "fifty\n",
            "form\n",
            "game\n",
            "limited\n",
            "over\n",
            "cricket\n",
            "attacking\n",
            "player\n",
            "hold\n",
            "record\n",
            "fastest\n",
            "odi\n",
            "fifty\n",
            "ball\n",
            "equalled\n",
            "matthew\n",
            "forde\n",
            "west\n",
            "indie\n",
            "made\n",
            "ball\n",
            "ireland\n",
            "fastest\n",
            "odi\n",
            "century\n",
            "ball\n",
            "fastest\n",
            "odi\n",
            "ball\n",
            "de\n",
            "villiers\n",
            "captained\n",
            "south\n",
            "africa\n",
            "three\n",
            "format\n",
            "although\n",
            "series\n",
            "injury\n",
            "stepped\n",
            "test\n",
            "captaincy\n",
            "stepped\n",
            "captaining\n",
            "national\n",
            "limited\n",
            "over\n",
            "game\n",
            "may\n",
            "announced\n",
            "retirement\n",
            "form\n",
            "international\n",
            "cricket\n",
            "january\n",
            "however\n",
            "de\n",
            "villiers\n",
            "expressed\n",
            "interest\n",
            "making\n",
            "international\n",
            "comeback\n",
            "play\n",
            "world\n",
            "cup\n",
            "although\n",
            "later\n",
            "year\n",
            "confirmed\n",
            "would\n",
            "november\n",
            "de\n",
            "villiers\n",
            "announced\n",
            "retirement\n",
            "form\n",
            "cricket\n",
            "october\n",
            "de\n",
            "villiers\n",
            "became\n",
            "th\n",
            "south\n",
            "african\n",
            "cricketer\n",
            "inducted\n",
            "icc\n",
            "hall\n",
            "fame\n"
          ]
        }
      ]
    },
    {
      "cell_type": "code",
      "source": [
        "## Apply stop words\n",
        "import re\n",
        "corpus=[]\n",
        "for i in range(len(sentences)):\n",
        "  review=re.sub('[^a-zA-Z]',' ',sentences[i])\n",
        "  review=review.lower()\n",
        "  review=review.split()\n",
        "  review=[lemmatizer.lemmatize(word) for word in review if not word in set(stopwords.words('english'))]\n",
        "  review=' '.join(review)\n",
        "  corpus.append(review)"
      ],
      "metadata": {
        "id": "AdFTkTzDr7nN"
      },
      "execution_count": 76,
      "outputs": []
    },
    {
      "cell_type": "code",
      "source": [
        "from sklearn.feature_extraction.text import CountVectorizer\n",
        "cv=CountVectorizer(binary=False) #for binary bag of words make binary=true"
      ],
      "metadata": {
        "id": "Vzz-eXoOqwhE"
      },
      "execution_count": 77,
      "outputs": []
    },
    {
      "cell_type": "code",
      "source": [
        "X=cv.fit_transform(corpus)"
      ],
      "metadata": {
        "id": "aGH2JahEq9OS"
      },
      "execution_count": 78,
      "outputs": []
    },
    {
      "cell_type": "code",
      "source": [
        "cv.vocabulary_"
      ],
      "metadata": {
        "colab": {
          "base_uri": "https://localhost:8080/"
        },
        "id": "M42saVaCrEDe",
        "outputId": "0a162e97-0dbf-40a7-b801-4d47a326b2d0"
      },
      "execution_count": 79,
      "outputs": [
        {
          "output_type": "execute_result",
          "data": {
            "text/plain": [
              "{'abraham': 0,\n",
              " 'benjamin': 14,\n",
              " 'de': 28,\n",
              " 'villiers': 101,\n",
              " 'born': 15,\n",
              " 'february': 40,\n",
              " 'south': 93,\n",
              " 'african': 2,\n",
              " 'former': 47,\n",
              " 'international': 60,\n",
              " 'cricketer': 25,\n",
              " 'regarded': 87,\n",
              " 'one': 79,\n",
              " 'greatest': 50,\n",
              " 'batter': 9,\n",
              " 'generation': 49,\n",
              " 'named': 73,\n",
              " 'icc': 54,\n",
              " 'odi': 77,\n",
              " 'player': 84,\n",
              " 'year': 107,\n",
              " 'three': 97,\n",
              " 'time': 98,\n",
              " 'career': 20,\n",
              " 'five': 43,\n",
              " 'wisden': 104,\n",
              " 'decade': 30,\n",
              " 'end': 33,\n",
              " 'began': 12,\n",
              " 'wicket': 103,\n",
              " 'keeper': 63,\n",
              " 'often': 78,\n",
              " 'played': 83,\n",
              " 'innovative': 58,\n",
              " 'destructive': 31,\n",
              " 'batsman': 8,\n",
              " 'modern': 72,\n",
              " 'era': 36,\n",
              " 'known': 64,\n",
              " 'range': 85,\n",
              " 'unorthodox': 100,\n",
              " 'shot': 92,\n",
              " 'particularly': 81,\n",
              " 'behind': 13,\n",
              " 'made': 67,\n",
              " 'debut': 29,\n",
              " 'test': 95,\n",
              " 'match': 69,\n",
              " 'england': 34,\n",
              " 'first': 42,\n",
              " 'day': 27,\n",
              " 'early': 32,\n",
              " 'twenty': 99,\n",
              " 'cricket': 24,\n",
              " 'came': 16,\n",
              " 'scored': 90,\n",
              " 'run': 89,\n",
              " 'batting': 10,\n",
              " 'average': 6,\n",
              " 'fifty': 41,\n",
              " 'form': 45,\n",
              " 'game': 48,\n",
              " 'limited': 66,\n",
              " 'over': 80,\n",
              " 'attacking': 5,\n",
              " 'hold': 52,\n",
              " 'record': 86,\n",
              " 'fastest': 39,\n",
              " 'ball': 7,\n",
              " 'equalled': 35,\n",
              " 'matthew': 70,\n",
              " 'forde': 44,\n",
              " 'west': 102,\n",
              " 'indie': 55,\n",
              " 'ireland': 61,\n",
              " 'century': 21,\n",
              " 'captained': 18,\n",
              " 'africa': 1,\n",
              " 'format': 46,\n",
              " 'although': 3,\n",
              " 'series': 91,\n",
              " 'injury': 57,\n",
              " 'stepped': 94,\n",
              " 'captaincy': 17,\n",
              " 'captaining': 19,\n",
              " 'national': 74,\n",
              " 'may': 71,\n",
              " 'announced': 4,\n",
              " 'retirement': 88,\n",
              " 'january': 62,\n",
              " 'however': 53,\n",
              " 'expressed': 37,\n",
              " 'interest': 59,\n",
              " 'making': 68,\n",
              " 'comeback': 22,\n",
              " 'play': 82,\n",
              " 'world': 105,\n",
              " 'cup': 26,\n",
              " 'later': 65,\n",
              " 'confirmed': 23,\n",
              " 'would': 106,\n",
              " 'november': 75,\n",
              " 'october': 76,\n",
              " 'became': 11,\n",
              " 'th': 96,\n",
              " 'inducted': 56,\n",
              " 'hall': 51,\n",
              " 'fame': 38}"
            ]
          },
          "metadata": {},
          "execution_count": 79
        }
      ]
    },
    {
      "cell_type": "code",
      "source": [
        "corpus[1]"
      ],
      "metadata": {
        "colab": {
          "base_uri": "https://localhost:8080/",
          "height": 36
        },
        "id": "WCZwuYn9sYNK",
        "outputId": "374ca8db-0b87-4510-dd47-f5b78a48c7ea"
      },
      "execution_count": 82,
      "outputs": [
        {
          "output_type": "execute_result",
          "data": {
            "text/plain": [
              "'regarded one greatest batter generation'"
            ],
            "application/vnd.google.colaboratory.intrinsic+json": {
              "type": "string"
            }
          },
          "metadata": {},
          "execution_count": 82
        }
      ]
    },
    {
      "cell_type": "code",
      "source": [
        "X[1].toarray()"
      ],
      "metadata": {
        "colab": {
          "base_uri": "https://localhost:8080/"
        },
        "id": "6YbTQTY4rNFN",
        "outputId": "eb82ab3b-4c25-4d13-8db5-715c375a67cc"
      },
      "execution_count": 83,
      "outputs": [
        {
          "output_type": "execute_result",
          "data": {
            "text/plain": [
              "array([[0, 0, 0, 0, 0, 0, 0, 0, 0, 1, 0, 0, 0, 0, 0, 0, 0, 0, 0, 0, 0, 0,\n",
              "        0, 0, 0, 0, 0, 0, 0, 0, 0, 0, 0, 0, 0, 0, 0, 0, 0, 0, 0, 0, 0, 0,\n",
              "        0, 0, 0, 0, 0, 1, 1, 0, 0, 0, 0, 0, 0, 0, 0, 0, 0, 0, 0, 0, 0, 0,\n",
              "        0, 0, 0, 0, 0, 0, 0, 0, 0, 0, 0, 0, 0, 1, 0, 0, 0, 0, 0, 0, 0, 1,\n",
              "        0, 0, 0, 0, 0, 0, 0, 0, 0, 0, 0, 0, 0, 0, 0, 0, 0, 0, 0, 0]])"
            ]
          },
          "metadata": {},
          "execution_count": 83
        }
      ]
    },
    {
      "cell_type": "code",
      "source": [],
      "metadata": {
        "id": "9vjmN0alrvJj"
      },
      "execution_count": null,
      "outputs": []
    }
  ]
}